{
  "nbformat": 4,
  "nbformat_minor": 0,
  "metadata": {
    "colab": {
      "provenance": []
    },
    "kernelspec": {
      "name": "python3",
      "display_name": "Python 3"
    },
    "language_info": {
      "name": "python"
    }
  },
  "cells": [
    {
      "cell_type": "code",
      "source": [
        "pip install casadi\n"
      ],
      "metadata": {
        "colab": {
          "base_uri": "https://localhost:8080/"
        },
        "id": "-Vk0d2bm0fzm",
        "outputId": "2d4d8790-dbe6-41b0-8be2-7a03430bf7a1"
      },
      "execution_count": 1,
      "outputs": [
        {
          "output_type": "stream",
          "name": "stdout",
          "text": [
            "Collecting casadi\n",
            "  Downloading casadi-3.7.0-cp311-none-manylinux2014_x86_64.whl.metadata (2.2 kB)\n",
            "Requirement already satisfied: numpy in /usr/local/lib/python3.11/dist-packages (from casadi) (2.0.2)\n",
            "Downloading casadi-3.7.0-cp311-none-manylinux2014_x86_64.whl (77.3 MB)\n",
            "\u001b[2K   \u001b[90m━━━━━━━━━━━━━━━━━━━━━━━━━━━━━━━━━━━━━━━━\u001b[0m \u001b[32m77.3/77.3 MB\u001b[0m \u001b[31m12.7 MB/s\u001b[0m eta \u001b[36m0:00:00\u001b[0m\n",
            "\u001b[?25hInstalling collected packages: casadi\n",
            "Successfully installed casadi-3.7.0\n"
          ]
        }
      ]
    },
    {
      "cell_type": "markdown",
      "source": [
        "**How to solve an NLP using CasADi in Python**\n",
        "\n",
        "\n",
        "Lets look at a toy example on how to use CasADi and IPOPT:\n",
        "Mathematical problem formulation:\n",
        "\n",
        "$$\n",
        "\\begin{array}{ll}\n",
        "\\min _x & f(x ; p)=x_1^2+x_2^2+x_3^2 \\\\\n",
        "\\text { subject to: } & x_1, x_2, x_3 \\geq 0 \\\\\n",
        "& 6 x_1+3 x_2+2 x_3-p_1=0 \\\\\n",
        "& p_2 x_1+x_2-x_3-1=0\n",
        "\\end{array}\n",
        "$$"
      ],
      "metadata": {
        "id": "PaY36gax0iWn"
      }
    },
    {
      "cell_type": "code",
      "execution_count": 5,
      "metadata": {
        "colab": {
          "base_uri": "https://localhost:8080/"
        },
        "id": "ygDUNCKF0e-Z",
        "outputId": "c8a54f90-fd4d-4ca4-c302-b686964feb79"
      },
      "outputs": [
        {
          "output_type": "stream",
          "name": "stdout",
          "text": [
            "\n",
            "******************************************************************************\n",
            "This program contains Ipopt, a library for large-scale nonlinear optimization.\n",
            " Ipopt is released as open source code under the Eclipse Public License (EPL).\n",
            "         For more information visit https://github.com/coin-or/Ipopt\n",
            "******************************************************************************\n",
            "\n",
            "This is Ipopt version 3.14.11, running with linear solver MUMPS 5.4.1.\n",
            "\n",
            "Number of nonzeros in equality constraint Jacobian...:        6\n",
            "Number of nonzeros in inequality constraint Jacobian.:        0\n",
            "Number of nonzeros in Lagrangian Hessian.............:        3\n",
            "\n",
            "Total number of variables............................:        3\n",
            "                     variables with only lower bounds:        3\n",
            "                variables with lower and upper bounds:        0\n",
            "                     variables with only upper bounds:        0\n",
            "Total number of equality constraints.................:        2\n",
            "Total number of inequality constraints...............:        0\n",
            "        inequality constraints with only lower bounds:        0\n",
            "   inequality constraints with lower and upper bounds:        0\n",
            "        inequality constraints with only upper bounds:        0\n",
            "\n",
            "iter    objective    inf_pr   inf_du lg(mu)  ||d||  lg(rg) alpha_du alpha_pr  ls\n",
            "   0  4.5100000e-02 3.63e+00 4.11e-01  -1.0 0.00e+00    -  0.00e+00 0.00e+00   0\n",
            "   1  5.8681488e-01 8.88e-16 1.95e+00  -1.0 3.91e-01    -  3.37e-01 1.00e+00h  1\n",
            "   2  5.9327019e-01 8.88e-16 1.00e-06  -1.0 1.32e-02    -  1.00e+00 1.00e+00f  1\n",
            "   3  5.6004673e-01 0.00e+00 4.92e-02  -2.5 8.93e-02    -  9.26e-01 1.00e+00f  1\n",
            "   4  5.5264341e-01 1.11e-16 2.83e-08  -2.5 4.42e-02    -  1.00e+00 1.00e+00f  1\n",
            "   5  5.5114453e-01 2.22e-16 1.50e-09  -3.8 2.36e-02    -  1.00e+00 1.00e+00f  1\n",
            "   6  5.5102559e-01 8.88e-16 1.50e-09  -3.8 7.16e-03    -  1.00e+00 1.00e+00f  1\n",
            "   7  5.5102042e-01 8.88e-16 1.84e-11  -5.7 1.77e-03    -  1.00e+00 1.00e+00f  1\n",
            "   8  5.5102041e-01 8.88e-16 2.51e-14  -8.6 6.77e-05    -  1.00e+00 1.00e+00h  1\n",
            "   9  5.5102041e-01 0.00e+00 9.07e-15  -9.0 9.29e-08    -  1.00e+00 1.00e+00h  1\n",
            "\n",
            "Number of Iterations....: 9\n",
            "\n",
            "                                   (scaled)                 (unscaled)\n",
            "Objective...............:   5.5102040816326525e-01    5.5102040816326525e-01\n",
            "Dual infeasibility......:   9.0748420639218206e-15    9.0748420639218206e-15\n",
            "Constraint violation....:   0.0000000000000000e+00    0.0000000000000000e+00\n",
            "Variable bound violation:   0.0000000000000000e+00    0.0000000000000000e+00\n",
            "Complementarity.........:   9.0911698984221053e-10    9.0911698984221053e-10\n",
            "Overall NLP error.......:   9.0911698984221053e-10    9.0911698984221053e-10\n",
            "\n",
            "\n",
            "Number of objective function evaluations             = 10\n",
            "Number of objective gradient evaluations             = 10\n",
            "Number of equality constraint evaluations            = 10\n",
            "Number of inequality constraint evaluations          = 0\n",
            "Number of equality constraint Jacobian evaluations   = 10\n",
            "Number of inequality constraint Jacobian evaluations = 0\n",
            "Number of Lagrangian Hessian evaluations             = 9\n",
            "Total seconds in IPOPT                               = 0.007\n",
            "\n",
            "EXIT: Optimal Solution Found.\n",
            "      solver  :   t_proc      (avg)   t_wall      (avg)    n_eval\n",
            "       nlp_f  |  32.00us (  3.20us)  12.75us (  1.28us)        10\n",
            "       nlp_g  |  69.00us (  6.90us)  29.45us (  2.94us)        10\n",
            "  nlp_grad_f  |  79.00us (  7.18us)  37.32us (  3.39us)        11\n",
            "  nlp_hess_l  |  28.00us (  3.11us)  13.04us (  1.45us)         9\n",
            "   nlp_jac_g  |  34.00us (  3.09us)  16.93us (  1.54us)        11\n",
            "       total  |  15.86ms ( 15.86ms)   7.94ms (  7.94ms)         1\n",
            "Optimal solution: [0.632653, 0.387755, 0.0204082]\n"
          ]
        }
      ],
      "source": [
        "# Import libraries\n",
        "import casadi as cd\n",
        "import numpy as np\n",
        "import matplotlib.pyplot as plt\n",
        "\n",
        "# Decision variables\n",
        "x = cd.SX.sym(\"x\", 3)\n",
        "\n",
        "# Parameters\n",
        "p = [5.00, 1.00]\n",
        "\n",
        "# Objective function\n",
        "f = x[0]**2 + x[1]**2 + x[2]**2\n",
        "\n",
        "# Nonlinear constraints\n",
        "g = cd.vertcat(\n",
        "    6*x[0] + 3*x[1] + 2*x[2] - p[0],\n",
        "    p[1]*x[0] + x[1] - x[2] - 1\n",
        ")\n",
        "\n",
        "# Create NLP problem dictionary\n",
        "nlp = {\n",
        "    'x': x,\n",
        "    'f': f,\n",
        "    'g': g\n",
        "}\n",
        "\n",
        "# Create solver\n",
        "solver = cd.nlpsol('solver', 'ipopt', nlp)\n",
        "\n",
        "# Input bounds for the optimization variables\n",
        "lbx = [0.00, 0.00, 0.00]\n",
        "ubx = [cd.inf, cd.inf, cd.inf]\n",
        "\n",
        "# Nonlinear constraint bounds\n",
        "lbg = [0.0, 0.0]\n",
        "ubg = [0.0, 0.0]\n",
        "\n",
        "# Initial guess\n",
        "x0 = [0.15, 0.15, 0.00]\n",
        "\n",
        "# Solve NLP\n",
        "sol = solver(x0=x0, lbx=lbx, ubx=ubx, lbg=lbg, ubg=ubg)\n",
        "\n",
        "# Extract and print the solution\n",
        "x_opt = sol['x']\n",
        "print(\"Optimal solution:\", x_opt)"
      ]
    },
    {
      "cell_type": "code",
      "source": [
        "\n",
        "# Print the solution\n",
        "print(\"----\")\n",
        "print(\"Minimal cost:\", float(sol['f']))\n",
        "print(\"----\")\n",
        "\n",
        "print(\"Optimal solution:\")\n",
        "print(\"x =\", sol['x'].full().flatten())\n",
        "print(\"----\")"
      ],
      "metadata": {
        "colab": {
          "base_uri": "https://localhost:8080/"
        },
        "id": "_WDrXoDG0nSt",
        "outputId": "cc672a50-11c5-4f9c-ad8a-6cc4ceb968ae"
      },
      "execution_count": 7,
      "outputs": [
        {
          "output_type": "stream",
          "name": "stdout",
          "text": [
            "----\n",
            "Minimal cost: 0.5510204081632653\n",
            "----\n",
            "Optimal solution:\n",
            "x = [0.63265306 0.38775511 0.02040817]\n",
            "----\n"
          ]
        }
      ]
    }
  ]
}